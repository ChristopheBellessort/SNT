{
 "cells": [
  {
   "cell_type": "code",
   "execution_count": null,
   "metadata": {},
   "outputs": [],
   "source": [
    "from numpy import loadtxt\n",
    "import folium\n",
    "\n",
    "lat, long = loadtxt(\"itineraire.csv\", skiprows=1, delimiter=\",\",unpack=True, usecols=(0, 1))\n",
    "itin = [[long[i], lat[i]] for i in range(len(lat))]\n",
    "carte = folium.Map(location=[long[0], lat[0]], zoom_start=20)\n",
    "route = folium.PolyLine(itin, tooltip = \"Course\").add_to(carte)\n",
    "carte.save(\"Itineraire.html\")"
   ]
  }
 ],
 "metadata": {
  "kernelspec": {
   "display_name": "Python 3",
   "language": "python",
   "name": "python3"
  },
  "language_info": {
   "codemirror_mode": {
    "name": "ipython",
    "version": 3
   },
   "file_extension": ".py",
   "mimetype": "text/x-python",
   "name": "python",
   "nbconvert_exporter": "python",
   "pygments_lexer": "ipython3",
   "version": "3.8.5"
  }
 },
 "nbformat": 4,
 "nbformat_minor": 4
}
