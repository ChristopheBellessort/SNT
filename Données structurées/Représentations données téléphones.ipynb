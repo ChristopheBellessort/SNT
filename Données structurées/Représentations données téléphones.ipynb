{
 "cells": [
  {
   "cell_type": "markdown",
   "metadata": {},
   "source": [
    "# Représentation des données - Types de téléphones mobiles #"
   ]
  },
  {
   "cell_type": "markdown",
   "metadata": {},
   "source": [
    "Vous pouvez exécuter le programme ci-dessous pour représenter les données déjà exploitées avec le tableur."
   ]
  },
  {
   "cell_type": "code",
   "execution_count": null,
   "metadata": {},
   "outputs": [],
   "source": [
    "import matplotlib.pyplot as plt  # On importe la bibliothèque graphique qu'on appellera plt\n",
    "annees = [2011, 2012, 2013, 2014, 2015, 2016, 2017, 2018]  # Liste des années\n",
    "smart = [17, 29, 39, 46, 58, 65, 73, 75]  # Pourcentages de smartphones\n",
    "classique = [67, 59, 50, 43, 34, 28, 21, 19]  # Pourcentages de téléphones classiques\n",
    "aucun = [15, 12, 11, 11, 8, 7, 6, 6]  # Pourcentages sans téléphone mobile\n",
    "\n",
    "plt.figure(1)\n",
    "plt.title(\"Évolution de l'équipement en téléphonie mobile\")  # Titre du graphique\n",
    "plt.plot(annees, smart, color = \"blue\", label = \"Smartphones\")  # tracée des données pour les smartphones\n",
    "plt.plot(annees, classique, color = \"red\", label = \"Classiques\")  # Pour les classiques\n",
    "plt.plot(annees, aucun, color = \"green\", label = \"Sans téléphone mobile\")  # pour les sans téléphone\n",
    "plt.legend()  # Affichage de la légende\n",
    "plt.show()\n"
   ]
  },
  {
   "cell_type": "code",
   "execution_count": null,
   "metadata": {},
   "outputs": [],
   "source": []
  }
 ],
 "metadata": {
  "kernelspec": {
   "display_name": "Python 3",
   "language": "python",
   "name": "python3"
  },
  "language_info": {
   "codemirror_mode": {
    "name": "ipython",
    "version": 3
   },
   "file_extension": ".py",
   "mimetype": "text/x-python",
   "name": "python",
   "nbconvert_exporter": "python",
   "pygments_lexer": "ipython3",
   "version": "3.8.5"
  }
 },
 "nbformat": 4,
 "nbformat_minor": 4
}
